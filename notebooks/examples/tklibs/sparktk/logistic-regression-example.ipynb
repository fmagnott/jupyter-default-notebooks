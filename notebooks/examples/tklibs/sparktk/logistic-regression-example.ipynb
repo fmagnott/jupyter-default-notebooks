{
 "cells": [
  {
   "cell_type": "markdown",
   "metadata": {},
   "source": [
    "# Logistic Regression Example\n",
    "\n",
    "Logistic Regression is a widely used supervised binary and multi-class classification algorithm. The Logistic Regression model is initialized, trained on columns of a frame, predicts the labels of observations, and tests the predicted labels against the true labels. This model runs the [MLLib implementation](https://spark.apache.org/docs/1.5.0/mllib-linear-methods.html#logistic-regression) of Logistic Regression, with enhanced features — trained model summary statistics; Covariance and Hessian matrices; ability to specify the frequency of the train and test observations. Testing performance can be viewed via built-in binary and multi-class Classification Metrics. It also allows the user to select the optimizer to be used - [L-BFGS](https://en.wikipedia.org/wiki/Limited-memory_BFGS) or [SGD](https://en.wikipedia.org/wiki/Stochastic_gradient_descent).\n",
    "\n",
    "\n",
    "- Read more about [Logistic Regression in Wikipedia](https://en.wikipedia.org/wiki/Logistic_regression)\n",
    "- See [sparktk Documentation](http://trustedanalytics.github.io/sparktk/) for more information about the the API's"
   ]
  },
  {
   "cell_type": "code",
   "execution_count": 1,
   "metadata": {
    "collapsed": false,
    "scrolled": false
   },
   "outputs": [
    {
     "name": "stdout",
     "output_type": "stream",
     "text": [
      "sparktk installation path = ['/opt/anaconda2/lib/python2.7/site-packages/sparktk']\n"
     ]
    }
   ],
   "source": [
    "# First, let's verify that the sparktk libraries are installed\n",
    "import sparktk\n",
    "print \"sparktk installation path = %s\" % (sparktk.__path__)"
   ]
  },
  {
   "cell_type": "code",
   "execution_count": 2,
   "metadata": {
    "collapsed": false
   },
   "outputs": [],
   "source": [
    "# This notebook assumes you have already created a credentials file.\n",
    "# Enter the path here to connect to ATK\n",
    "from sparktk import TkContext\n",
    "tc = TkContext()"
   ]
  },
  {
   "cell_type": "code",
   "execution_count": 3,
   "metadata": {
    "collapsed": false
   },
   "outputs": [],
   "source": [
    "# Create a new frame by uploading rows\n",
    "data = [ [4.9,1.4,0], \n",
    "        [4.7,1.3,0], \n",
    "        [4.6,1.5,0], \n",
    "        [6.3,4.9,1],\n",
    "        [6.1,4.7,1], \n",
    "        [6.4,4.3,1], \n",
    "        [6.6,4.4,1], \n",
    "        [7.2,6.0,2],\n",
    "        [7.2,5.8,2], \n",
    "        [7.4,6.1,2], \n",
    "        [7.9,6.4,2]]\n",
    "\n",
    "schema = [('Sepal_Length', float),\n",
    "          ('Petal_Length', float),\n",
    "          ('Class', int)]\n",
    "frame = tc.frame.create(data, schema)"
   ]
  },
  {
   "cell_type": "code",
   "execution_count": 4,
   "metadata": {
    "collapsed": false
   },
   "outputs": [
    {
     "data": {
      "text/plain": [
       "[#]  Sepal_Length  Petal_Length  Class\n",
       "======================================\n",
       "[0]           4.9           1.4      0\n",
       "[1]           4.7           1.3      0\n",
       "[2]           4.6           1.5      0\n",
       "[3]           6.3           4.9      1\n",
       "[4]           6.1           4.7      1\n",
       "[5]           6.4           4.3      1\n",
       "[6]           6.6           4.4      1\n",
       "[7]           7.2           6.0      2\n",
       "[8]           7.2           5.8      2\n",
       "[9]           7.4           6.1      2"
      ]
     },
     "execution_count": 4,
     "metadata": {},
     "output_type": "execute_result"
    }
   ],
   "source": [
    "# Consider the following frame containing three columns.\n",
    "frame.inspect()"
   ]
  },
  {
   "cell_type": "code",
   "execution_count": 5,
   "metadata": {
    "collapsed": true
   },
   "outputs": [],
   "source": [
    "# Create a new model and train it\n",
    "model = tc.models.classification.logistic_regression.train(frame, ['Sepal_Length', 'Petal_Length'],\n",
    "                                                           'Class',\n",
    "                                                           num_classes=3,\n",
    "                                                           optimizer='LBFGS',\n",
    "                                                           compute_covariance=True)"
   ]
  },
  {
   "cell_type": "code",
   "execution_count": 6,
   "metadata": {
    "collapsed": false
   },
   "outputs": [
    {
     "data": {
      "text/plain": [
       "coefficients      = {u'Sepal_Length_0': -63.68381906591638, u'Sepal_Length_1': -120.44216460295151, u'Petal_Length_0': 117.97982446091233, u'intercept_1': -90.4844045502266, u'intercept_0': -0.7801530640313616, u'Petal_Length_1': 206.33964867030875}\n",
       "covariance_matrix = <sparktk.frame.frame.Frame object at 0x7f4b8d811110>\n",
       "degrees_freedom   = {u'Sepal_Length_0': 1.0, u'Sepal_Length_1': 1.0, u'Petal_Length_0': 1.0, u'intercept_1': 1.0, u'intercept_0': 1.0, u'Petal_Length_1': 1.0}\n",
       "num_classes       = 3\n",
       "num_features      = 2\n",
       "p_value           = {u'Sepal_Length_0': 1.0, u'Sepal_Length_1': 1.0, u'Petal_Length_0': 0.9974692240947096, u'intercept_1': 1.0, u'intercept_0': 1.0, u'Petal_Length_1': 0.9966542688059293}\n",
       "standard_errors   = {u'Sepal_Length_0': 16611711.27902509, u'Sepal_Length_1': 16610947.081891032, u'Petal_Length_0': 11726786.817453029, u'intercept_1': 40269087.87692691, u'intercept_0': 40287879.968022846, u'Petal_Length_1': 11734867.038286857}\n",
       "wald_statistic    = {u'Sepal_Length_0': -3.833669993188917e-06, u'Sepal_Length_1': -7.250770471375198e-06, u'Petal_Length_0': 1.0060711966326738e-05, u'intercept_1': -2.2469941416793726e-06, u'intercept_0': -1.9364460593374037e-08, u'Petal_Length_1': 1.7583467115314816e-05}"
      ]
     },
     "execution_count": 6,
     "metadata": {},
     "output_type": "execute_result"
    }
   ],
   "source": [
    "model.training_summary"
   ]
  },
  {
   "cell_type": "code",
   "execution_count": 7,
   "metadata": {
    "collapsed": false
   },
   "outputs": [
    {
     "data": {
      "text/plain": [
       "[#]  Sepal_Length_0      Petal_Length_0      intercept_0       \n",
       "===============================================================\n",
       "[0]   2.75948951618e+14  -2.11652277802e+14  -9.23304845943e+14\n",
       "[1]  -2.11652198459e+14   1.37517529062e+14   8.98938201283e+14\n",
       "[2]  -9.23305455582e+14   8.98938934397e+14   1.62311327232e+15\n",
       "[3]   2.75936251796e+14  -2.11722390638e+14  -9.22846555893e+14\n",
       "[4]  -2.11662305836e+14   1.37612302185e+14   8.98501135694e+14\n",
       "[5]   -9.2316375869e+14   8.98903106732e+14   1.62235634858e+15\n",
       "\n",
       "[#]  Sepal_Length_1      Petal_Length_1      intercept_1       \n",
       "===============================================================\n",
       "[0]   2.75936251572e+14  -2.11662384933e+14  -9.23163148862e+14\n",
       "[1]  -2.11722311118e+14   1.37612301984e+14   8.98902373501e+14\n",
       "[2]  -9.22847164822e+14   8.98501868071e+14   1.62235634773e+15\n",
       "[3]   2.75923562957e+14  -2.11732516258e+14  -9.22704834924e+14\n",
       "[4]  -2.11732436984e+14   1.37707104406e+14   8.98465275197e+14\n",
       "[5]  -9.22705444042e+14   8.98466007692e+14   1.62159943844e+15"
      ]
     },
     "execution_count": 7,
     "metadata": {},
     "output_type": "execute_result"
    }
   ],
   "source": [
    "# The covariance matrix is the inverse of the Hessian matrix for the trained model. \n",
    "# The Hessian matrix is the second-order partial derivatives of the model’s log-likelihood function\n",
    "model.training_summary.covariance_matrix.inspect()"
   ]
  },
  {
   "cell_type": "code",
   "execution_count": 8,
   "metadata": {
    "collapsed": false
   },
   "outputs": [
    {
     "data": {
      "text/plain": [
       "[#]  Sepal_Length  Petal_Length  Class  predicted_label\n",
       "=======================================================\n",
       "[0]           4.9           1.4      0                0\n",
       "[1]           4.7           1.3      0                0\n",
       "[2]           4.6           1.5      0                0\n",
       "[3]           6.3           4.9      1                1\n",
       "[4]           6.1           4.7      1                1\n",
       "[5]           6.4           4.3      1                1\n",
       "[6]           6.6           4.4      1                1\n",
       "[7]           7.2           6.0      2                2\n",
       "[8]           7.2           5.8      2                2\n",
       "[9]           7.4           6.1      2                2"
      ]
     },
     "execution_count": 8,
     "metadata": {},
     "output_type": "execute_result"
    }
   ],
   "source": [
    "# Use the model to make predictions\n",
    "model.predict(frame, ['Sepal_Length', 'Petal_Length'])\n",
    "\n",
    "frame.inspect()"
   ]
  },
  {
   "cell_type": "code",
   "execution_count": 9,
   "metadata": {
    "collapsed": false
   },
   "outputs": [
    {
     "data": {
      "text/plain": [
       "accuracy         = 1.0\n",
       "confusion_matrix =             Predicted_0.0  Predicted_1.0  Predicted_2.0\n",
       "Actual_0.0              3              0              0\n",
       "Actual_1.0              0              4              0\n",
       "Actual_2.0              0              0              4\n",
       "f_measure        = 1.0\n",
       "precision        = 1.0\n",
       "recall           = 1.0"
      ]
     },
     "execution_count": 9,
     "metadata": {},
     "output_type": "execute_result"
    }
   ],
   "source": [
    "# Test the model\n",
    "test_metrics = model.test(frame, 'Class', ['Sepal_Length', 'Petal_Length'])\n",
    "test_metrics"
   ]
  },
  {
   "cell_type": "code",
   "execution_count": null,
   "metadata": {
    "collapsed": true
   },
   "outputs": [],
   "source": []
  }
 ],
 "metadata": {
  "anaconda-cloud": {},
  "kernelspec": {
   "display_name": "Python [default]",
   "language": "python",
   "name": "python2"
  },
  "language_info": {
   "codemirror_mode": {
    "name": "ipython",
    "version": 2
   },
   "file_extension": ".py",
   "mimetype": "text/x-python",
   "name": "python",
   "nbconvert_exporter": "python",
   "pygments_lexer": "ipython2",
   "version": "2.7.12"
  }
 },
 "nbformat": 4,
 "nbformat_minor": 0
}

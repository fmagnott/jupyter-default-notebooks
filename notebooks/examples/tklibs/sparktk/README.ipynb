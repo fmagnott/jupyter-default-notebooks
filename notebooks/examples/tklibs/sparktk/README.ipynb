{
 "cells": [
  {
   "cell_type": "markdown",
   "metadata": {},
   "source": [
    "## TAP Spark Toolkit library Help\n",
    "\n",
    "Helpfull links\n",
    "- [sparktk documentation](http://trustedanalytics.github.io/sparktk/) if you ever need help.\n",
    "- [sparktk git repo](https://github.com/trustedanalytics/spark-tk) - sparktk source code\n",
    "- [sparktk pypi packages](https://pypi.python.org/pypi/trustedanalytics)\n",
    "- [TAP JIRA](https://trustedanalytics.atlassian.net) if you have bugs to file.\n",
    "- [TrustedAnalytics.org](http://trustedanalytics.org) - the main website for TAP\n",
    "\n",
    "See the other [sparktk Examples](/tree/examples/tal/sparktk) that come with TAP\n",
    "\n",
    "## TAP Menu\n",
    "\n",
    "On the right side of the tool bar you can find the **\"TAP Help\"** menu. There you can find all the links and code snippets provided here for a quick and easy reference."
   ]
  },
  {
   "cell_type": "code",
   "execution_count": null,
   "metadata": {
    "collapsed": true
   },
   "outputs": [],
   "source": [
    "# First, let's verify that the sparktk libraries are installed\n",
    "import sparktk\n",
    "print \"sparktk installation path = %s\" % (spark.__path__)\n",
    "\n",
    "tc = from sparktk import TkContext"
   ]
  }
 ],
 "metadata": {
  "anaconda-cloud": {},
  "kernelspec": {
   "display_name": "Python [default]",
   "language": "python",
   "name": "python2"
  },
  "language_info": {
   "codemirror_mode": {
    "name": "ipython",
    "version": 2
   },
   "file_extension": ".py",
   "mimetype": "text/x-python",
   "name": "python",
   "nbconvert_exporter": "python",
   "pygments_lexer": "ipython2",
   "version": "2.7.12"
  }
 },
 "nbformat": 4,
 "nbformat_minor": 0
}
